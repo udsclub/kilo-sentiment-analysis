{
 "cells": [
  {
   "cell_type": "code",
   "execution_count": 1,
   "metadata": {
    "collapsed": true
   },
   "outputs": [],
   "source": [
    "# import main libraries/packages\n",
    "import warnings\n",
    "warnings.filterwarnings('ignore') # to ignore annoying IPython warnings\n",
    "import numpy as np\n",
    "import pandas as pd\n",
    "import gzip\n",
    "import re\n",
    "\n",
    "from sklearn.model_selection import train_test_split\n",
    "from scipy.sparse import csr_matrix, hstack # to get memory-efficient representation of matrices (sparse format)\n",
    "from textblob import TextBlob, Word\n",
    "\n",
    "# preprocessing / feature extraction / feature transformation\n",
    "from sklearn.preprocessing import FunctionTransformer\n",
    "from sklearn.feature_extraction.text import TfidfTransformer, TfidfVectorizer, CountVectorizer\n",
    "from sklearn.decomposition import PCA, SparsePCA\n",
    "\n",
    "# models\n",
    "from sklearn.ensemble import ExtraTreesClassifier\n",
    "from sklearn.pipeline import Pipeline, FeatureUnion\n",
    "\n",
    "# metrics/validation\n",
    "from sklearn.model_selection import cross_val_score, train_test_split, StratifiedKFold \n",
    "from sklearn.model_selection import GridSearchCV, RandomizedSearchCV\n",
    "from sklearn.metrics import accuracy_score, f1_score, roc_auc_score, confusion_matrix\n",
    "from sklearn.metrics import classification_report\n",
    "# model serialization/deserialization\n",
    "import dill"
   ]
  },
  {
   "cell_type": "code",
   "execution_count": 2,
   "metadata": {
    "collapsed": true
   },
   "outputs": [],
   "source": [
    "# load train dataset\n",
    "train_df_names = ['train.csv']\n",
    "\n",
    "df = pd.concat((pd.read_csv(name, engine='c', sep=',', \n",
    "                 usecols=['overall', 'reviewText']) for name in train_df_names), ignore_index=True)\n",
    "\n",
    "df = df.rename(columns={'overall' : 'label', 'reviewText' : 'text'}) #rename var\n",
    "\n",
    "# load test dataset\n",
    "\n",
    "test_DM = pd.read_csv(\"Digital_Music.csv\", sep=\",\", engine='c', usecols=['label', 'text'])\n",
    "test_VG = pd.read_csv(\"Video_Games.csv\", sep=\",\", engine='c', usecols=['label', 'text'])\n",
    "test_OP = pd.read_csv(\"Office_Products.csv\", sep=\",\", engine='c', usecols=['label', 'text'])\n",
    "\n",
    "df.text = df.text.apply(str)\n",
    "test_DM.text = test_DM.text.apply(str)\n",
    "test_VG.text = test_VG.text.apply(str)\n",
    "test_OP.text = test_OP.text.apply(str)"
   ]
  },
  {
   "cell_type": "code",
   "execution_count": 3,
   "metadata": {
    "collapsed": false
   },
   "outputs": [
    {
     "name": "stdout",
     "output_type": "stream",
     "text": [
      "class balance: \n",
      " 1    1158561\n",
      "0     185410\n",
      "Name: label, dtype: int64\n"
     ]
    }
   ],
   "source": [
    "print('class balance:', '\\n', df.label.value_counts())"
   ]
  },
  {
   "cell_type": "code",
   "execution_count": 4,
   "metadata": {
    "collapsed": false
   },
   "outputs": [
    {
     "name": "stdout",
     "output_type": "stream",
     "text": [
      "class balance: \n",
      " 1    185410\n",
      "0    185410\n",
      "Name: label, dtype: int64\n",
      "Wall time: 417 ms\n"
     ]
    }
   ],
   "source": [
    "%%time\n",
    "# imbalanced data\n",
    "#df_small = df.sample(200000, random_state=20)\n",
    "\n",
    "# balanced data\n",
    "df_small = pd.concat([df[df.label == 1].sample(100000, random_state=48),  df[df.label == 0].sample(100000, random_state=48)])\n",
    "print('class balance:', '\\n', df_small.label.value_counts())"
   ]
  },
  {
   "cell_type": "code",
   "execution_count": 5,
   "metadata": {
    "collapsed": false
   },
   "outputs": [
    {
     "name": "stdout",
     "output_type": "stream",
     "text": [
      "Wall time: 0 ns\n"
     ]
    }
   ],
   "source": [
    "%%time\n",
    "def get_rate(s):\n",
    "    candidates = re.findall(r'(\\d{1,3}[\\\\|/]{1}\\d{1,2})', s)\n",
    "    rates = []\n",
    "    for c in candidates:\n",
    "        try:\n",
    "            rates.append(eval(c))\n",
    "        except SyntaxError:\n",
    "            pass\n",
    "        except ZeroDivisionError:\n",
    "            return 0\n",
    "    return np.median(rates)\n",
    "\n",
    "# regular expression to split review on sentences\n",
    "sentence_splitter = re.compile('(?<!\\w\\.\\w.)(?<![A-Z][a-z]\\.)(?<![A-Z]\\.)(?<=\\!|\\?|\\.)\\s')\n",
    "\n",
    "# lists of positive/negative smiles\n",
    "positive_smiles = set([\n",
    "\":‑)\",\":)\",\":-]\",\":]\",\":-3\",\":3\",\":->\",\":>\",\"8-)\",\"8)\",\":-}\",\":}\",\":o)\",\":c)\",\":^)\",\"=]\",\"=)\",\":‑D\",\":D\",\"8‑D\",\"8D\",\n",
    "\"x‑D\",\"xD\",\"X‑D\",\"XD\",\"=D\",\"=3\",\"B^D\",\":-))\",\";‑)\",\";)\",\"*-)\",\"*)\",\";‑]\",\";]\",\";^)\",\":‑,\",\";D\",\":‑P\",\":P\",\"X‑P\",\"XP\",\n",
    "\"x‑p\",\"xp\",\":‑p\",\":p\",\":‑Þ\",\":Þ\",\":‑þ\",\":þ\",\":‑b\",\":b\",\"d:\",\"=p\",\">:P\", \":'‑)\", \":')\",  \":-*\", \":*\", \":×\"\n",
    "])\n",
    "negative_smiles = set([\n",
    "\":‑(\",\":(\",\":‑c\",\":c\",\":‑<\",\":<\",\":‑[\",\":[\",\":-||\",\">:[\",\":{\",\":@\",\">:(\",\"D‑':\",\"D:<\",\"D:\",\"D8\",\"D;\",\"D=\",\"DX\",\":‑/\",\n",
    "\":/\",\":‑.\",'>:\\\\', \">:/\", \":\\\\\", \"=/\" ,\"=\\\\\", \":L\", \"=L\",\":S\",\":‑|\",\":|\",\"|‑O\",\"<:‑|\"\n",
    "])\n",
    "\n",
    "# pattern to catch SUCH WORDS and ignore SuCH :)\n",
    "uppercase_pattern = re.compile(r'(\\b[0-9]*[A-Z]+[0-9]*[A-Z]{1,}[0-9]*\\b)')\n",
    "\n",
    "# contrast conjugations\n",
    "contrast_conj = set([\n",
    "'alternatively','anyway','but','by contrast','differ from','elsewhere','even so','however','in contrast','in fact',\n",
    "'in other respects','in spite of','in that respect','instead','nevertheless','on the contrary','on the other hand',\n",
    "'rather','though','whereas','yet'])\n",
    "\n",
    "# to get review \"purity\" ~ same sentiment over review (~1) or not (~0)\n",
    "def purity(sentences):\n",
    "    polarities = np.array([TextBlob(x).sentiment.polarity for x in sentences])\n",
    "    return polarities.sum() / np.abs(polarities).sum()\n",
    "\n",
    "# feature engineering ^-^\n",
    "def get_custom_features(text):\n",
    "    # assume text = pd.Series with review text\n",
    "    print('extracting custom features...')\n",
    "    tdf = pd.DataFrame()\n",
    "    tdf['text'] = text \n",
    "    \n",
    "    # feature 4 - totally uppercase words (like HOLY JESUS!)\n",
    "    tdf['upper_word_cnt'] = tdf.text.apply(lambda s: len(re.findall(uppercase_pattern, s)))\n",
    "    \n",
    "    # try to extract rating :) like \"great film. 9/10\" will yield 0.9\n",
    "    tdf['rating'] = tdf['text'].apply(get_rate).fillna(-1) # feature 5 - rating (if found in review)\n",
    "\n",
    "    # try to extract smiles and count positive/negative smiles per review (features 6,7)\n",
    "    tdf['positive_smiles'] = tdf.text.apply(lambda s: len([x for x in s.split() if x in positive_smiles]))\n",
    "    tdf['negative_smiles'] = tdf.text.apply(lambda s: len([x for x in s.split() if x in negative_smiles]))\n",
    "     \n",
    "    return csr_matrix(tdf[tdf.columns[2:]].values) # to get sparse format"
   ]
  },
  {
   "cell_type": "code",
   "execution_count": 6,
   "metadata": {
    "collapsed": true
   },
   "outputs": [],
   "source": [
    "extraction_list = []\n",
    "\n",
    "# 1. custom features\n",
    "extraction_list.append(['custom_features', \n",
    "                             FunctionTransformer(func=get_custom_features,\n",
    "                                                 validate=False,\n",
    "                                                 accept_sparse=True\n",
    "                                                )\n",
    "                            ])\n",
    "# 2. simple bag-of-words (tf-idf)\n",
    "extraction_list.append(['tfidf', \n",
    "                             TfidfVectorizer(decode_error='ignore',\n",
    "                                             max_df=0.75, \n",
    "                                             min_df=3,\n",
    "                                             ngram_range=(1, 3),\n",
    "                                             max_features=None,\n",
    "                                             stop_words='english'\n",
    "                                            )\n",
    "                            ])\n",
    "\n",
    "extractor = FeatureUnion(extraction_list)"
   ]
  },
  {
   "cell_type": "code",
   "execution_count": 7,
   "metadata": {
    "collapsed": true
   },
   "outputs": [],
   "source": [
    "clf = ExtraTreesClassifier(n_estimators=50, \n",
    "                             max_leaf_nodes=None, \n",
    "                             verbose=1,\n",
    "                             min_samples_leaf=3, \n",
    "                             random_state=1,\n",
    "                             n_jobs=-1,\n",
    "                             class_weight='balanced',\n",
    "                             criterion='entropy'\n",
    "                            )"
   ]
  },
  {
   "cell_type": "code",
   "execution_count": 8,
   "metadata": {
    "collapsed": true
   },
   "outputs": [],
   "source": [
    "# create pipeline, combining steps together                                                                                                                       \n",
    "\n",
    "model = Pipeline(\n",
    "    [\n",
    "        ('feature_extraction', extractor),\n",
    "        ('clf', clf)\n",
    "    ])"
   ]
  },
  {
   "cell_type": "code",
   "execution_count": null,
   "metadata": {
    "collapsed": false
   },
   "outputs": [
    {
     "name": "stdout",
     "output_type": "stream",
     "text": [
      "extracting custom features...\n"
     ]
    }
   ],
   "source": [
    "%%time\n",
    "# train/test split\n",
    "X_train, X_test, y_train, y_test = train_test_split(\n",
    "                                                    df_small.text, \n",
    "                                                    df_small.label, \n",
    "                                                    test_size=0.1, \n",
    "                                                    random_state=43, \n",
    "                                                    stratify=df_small.label\n",
    "                                                   )\n",
    "\n",
    "\n",
    "\n",
    "# fit model\n",
    "model.fit(X_train, y_train)\n",
    "print('finally fitted :)')\n",
    "\n",
    "#check results on validation\n",
    "print('Accuracy on validation: {}'.format(accuracy_score(model.predict(X_test), y_test)))\n",
    "print(classification_report(y_test, model.predict(X_test)))"
   ]
  },
  {
   "cell_type": "code",
   "execution_count": 9,
   "metadata": {
    "collapsed": false
   },
   "outputs": [
    {
     "name": "stdout",
     "output_type": "stream",
     "text": [
      "extracting custom features...\n"
     ]
    },
    {
     "name": "stderr",
     "output_type": "stream",
     "text": [
      "[Parallel(n_jobs=4)]: Done  42 tasks      | elapsed:    7.4s\n"
     ]
    },
    {
     "name": "stdout",
     "output_type": "stream",
     "text": [
      "             precision    recall  f1-score   support\n",
      "\n",
      "          0       0.35      0.82      0.49      5801\n",
      "          1       0.98      0.83      0.90     52116\n",
      "\n",
      "avg / total       0.91      0.83      0.86     57917\n",
      "\n",
      "accuracy: 0.8287722085052748\n",
      "Wall time: 1min 22s\n"
     ]
    },
    {
     "name": "stderr",
     "output_type": "stream",
     "text": [
      "[Parallel(n_jobs=4)]: Done  50 out of  50 | elapsed:    8.5s finished\n"
     ]
    }
   ],
   "source": [
    "%%time\n",
    "#test predict DM\n",
    "X, y = test_DM.text, test_DM.label\n",
    "y_pred = model.predict(X)\n",
    "print(classification_report(y, y_pred)) # смотреть на значение f1-score в строке для класса 0\n",
    "print('accuracy: {}'.format(accuracy_score(y, y_pred)))"
   ]
  },
  {
   "cell_type": "code",
   "execution_count": 10,
   "metadata": {
    "collapsed": false
   },
   "outputs": [
    {
     "name": "stdout",
     "output_type": "stream",
     "text": [
      "extracting custom features...\n"
     ]
    },
    {
     "name": "stderr",
     "output_type": "stream",
     "text": [
      "[Parallel(n_jobs=4)]: Done  42 tasks      | elapsed:   28.5s\n",
      "[Parallel(n_jobs=4)]: Done  50 out of  50 | elapsed:   32.0s finished\n"
     ]
    },
    {
     "name": "stdout",
     "output_type": "stream",
     "text": [
      "             precision    recall  f1-score   support\n",
      "\n",
      "          0       0.33      0.87      0.47     28516\n",
      "          1       0.97      0.71      0.82    174989\n",
      "\n",
      "avg / total       0.88      0.73      0.77    203505\n",
      "\n",
      "accuracy: 0.7309255300852558\n",
      "Wall time: 6min 11s\n"
     ]
    }
   ],
   "source": [
    "%%time\n",
    "#test predict VG\n",
    "X, y = test_VG.text, test_VG.label\n",
    "y_pred = model.predict(X)\n",
    "print(classification_report(y, y_pred)) # смотреть на значение f1-score в строке для класса 0\n",
    "print('accuracy: {}'.format(accuracy_score(y, y_pred)))"
   ]
  },
  {
   "cell_type": "code",
   "execution_count": 11,
   "metadata": {
    "collapsed": false
   },
   "outputs": [
    {
     "name": "stdout",
     "output_type": "stream",
     "text": [
      "extracting custom features...\n"
     ]
    },
    {
     "name": "stderr",
     "output_type": "stream",
     "text": [
      "[Parallel(n_jobs=4)]: Done  42 tasks      | elapsed:    6.3s\n"
     ]
    },
    {
     "name": "stdout",
     "output_type": "stream",
     "text": [
      "             precision    recall  f1-score   support\n",
      "\n",
      "          0       0.13      0.83      0.23      2856\n",
      "          1       0.98      0.67      0.79     45342\n",
      "\n",
      "avg / total       0.93      0.68      0.76     48198\n",
      "\n",
      "accuracy: 0.6754014689406199\n",
      "Wall time: 1min 23s\n"
     ]
    },
    {
     "name": "stderr",
     "output_type": "stream",
     "text": [
      "[Parallel(n_jobs=4)]: Done  50 out of  50 | elapsed:    7.3s finished\n"
     ]
    }
   ],
   "source": [
    "%%time\n",
    "#test predict OP\n",
    "X, y = test_OP.text, test_OP.label\n",
    "y_pred = model.predict(X)\n",
    "print(classification_report(y, y_pred)) # смотреть на значение f1-score в строке для класса 0\n",
    "print('accuracy: {}'.format(accuracy_score(y, y_pred)))"
   ]
  }
 ],
 "metadata": {
  "kernelspec": {
   "display_name": "Python 3",
   "language": "python",
   "name": "python3"
  },
  "language_info": {
   "codemirror_mode": {
    "name": "ipython",
    "version": 3
   },
   "file_extension": ".py",
   "mimetype": "text/x-python",
   "name": "python",
   "nbconvert_exporter": "python",
   "pygments_lexer": "ipython3",
   "version": "3.6.0"
  }
 },
 "nbformat": 4,
 "nbformat_minor": 2
}
