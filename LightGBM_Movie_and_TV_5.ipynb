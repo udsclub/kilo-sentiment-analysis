{
 "cells": [
  {
   "cell_type": "code",
   "execution_count": null,
   "metadata": {
    "collapsed": true,
    "deletable": true,
    "editable": true
   },
   "outputs": [],
   "source": [
    "# import main libraries/packages\n",
    "import warnings\n",
    "warnings.filterwarnings('ignore') # to ignore annoying IPython warnings\n",
    "import numpy as np\n",
    "import pandas as pd\n",
    "import gzip\n",
    "import re\n",
    "\n",
    "from sklearn.model_selection import train_test_split\n",
    "from scipy.sparse import csr_matrix, hstack # to get memory-efficient representation of matrices (sparse format)\n",
    "from textblob import TextBlob, Word\n",
    "\n",
    "# preprocessing / feature extraction / feature transformation\n",
    "from sklearn.preprocessing import FunctionTransformer\n",
    "from sklearn.feature_extraction.text import TfidfTransformer, TfidfVectorizer, CountVectorizer\n",
    "\n",
    "# models\n",
    "from lightgbm import LGBMClassifier\n",
    "from sklearn.pipeline import Pipeline, FeatureUnion\n",
    "\n",
    "# metrics/validation\n",
    "from sklearn.model_selection import cross_val_score, train_test_split, StratifiedKFold \n",
    "from sklearn.model_selection import GridSearchCV, RandomizedSearchCV\n",
    "from sklearn.metrics import accuracy_score, f1_score, roc_auc_score, confusion_matrix\n",
    "from sklearn.metrics import classification_report\n",
    "# model serialization/deserialization\n",
    "import dill"
   ]
  },
  {
   "cell_type": "markdown",
   "metadata": {
    "deletable": true,
    "editable": true
   },
   "source": [
    "### Unpacking from .json"
   ]
  },
  {
   "cell_type": "code",
   "execution_count": null,
   "metadata": {
    "collapsed": false,
    "deletable": true,
    "editable": true
   },
   "outputs": [],
   "source": [
    "def parse(path):\n",
    "    g = gzip.open(path, 'rb')\n",
    "    for l in g:\n",
    "        yield eval(l)\n",
    "        \n",
    "def getDF(path):\n",
    "    i = 0\n",
    "    df = {}\n",
    "    for d in parse(path):\n",
    "        df[i] = d\n",
    "        i += 1\n",
    "    return pd.DataFrame.from_dict(df, orient='index')\n",
    "\n",
    "'''\n",
    "df = getDF('reviews_Movies_and_TV_5.json.gz')\n",
    "train, test = train_test_split(df.asin.unique(), test_size=0.1, random_state=42)\n",
    "df_train = df[df.asin.isin(train) & (df.overall != 3)].copy()\n",
    "df_test = df[df.asin.isin(test) & (df.overall != 3)].copy()\n",
    "df_train['overall'] = df_train['overall'].apply(lambda x: 1 if x > 3 else 0)\n",
    "df_test['overall'] = df_test['overall'].apply(lambda x: 1 if x > 3 else 0)\n",
    "df_train[['overall', 'reviewText', 'asin']].to_csv('csv/train.csv', index=False)\n",
    "df_test[['overall', 'reviewText']].to_csv('csv/test.csv', index=False)\n",
    "'''\n",
    "\n",
    "pass"
   ]
  },
  {
   "cell_type": "markdown",
   "metadata": {
    "deletable": true,
    "editable": true
   },
   "source": [
    "# loading datasets"
   ]
  },
  {
   "cell_type": "code",
   "execution_count": null,
   "metadata": {
    "collapsed": false,
    "deletable": true,
    "editable": true
   },
   "outputs": [],
   "source": [
    "# load train dataset\n",
    "train_df_names = ['csv/train.csv']\n",
    "\n",
    "df = pd.concat((pd.read_csv(name, engine='c', sep=',', \n",
    "                 usecols=['overall', 'reviewText']) for name in train_df_names), ignore_index=True)\n",
    "\n",
    "df = df.rename(columns={'overall' : 'label', 'reviewText' : 'text'}) # rename columns\n",
    "\n",
    "# load test dataset\n",
    "df_test = pd.read_csv('csv/test.csv', sep=\",\", engine='c', usecols=['overall', 'reviewText'])\n",
    "df_test = df_test.rename(columns={'overall' : 'label', 'reviewText' : 'text'})\n",
    "\n",
    "# other test datasets\n",
    "test_RT = pd.read_csv(\"csv/reviews_rt_all.csv\", sep=\"|\", engine='c', usecols=['label', 'text'])\n",
    "test_imdb = pd.read_csv(\"csv/imdb_small.csv\", sep=\"|\", engine='c', usecols=['label', 'text'])\n",
    "test_polarity_RT = pd.read_csv(\"csv/test_reviews.csv\", sep=\"|\", engine='c', usecols=['label', 'text'])\n",
    "\n",
    "# to avoid some errors in 'object'-typed column\n",
    "df.text = df.text.apply(str)\n",
    "df_test.text = df_test.text.apply(str)\n",
    "test_RT.text = test_RT.text.apply(str)\n",
    "test_imdb.text = test_imdb.text.apply(str)\n",
    "test_polarity_RT.text = test_polarity_RT.text.apply(str)\n",
    "\n",
    "print('review count: {}'.format(len(df)))"
   ]
  },
  {
   "cell_type": "code",
   "execution_count": null,
   "metadata": {
    "collapsed": false,
    "deletable": true,
    "editable": true
   },
   "outputs": [],
   "source": [
    "df.head()"
   ]
  },
  {
   "cell_type": "code",
   "execution_count": null,
   "metadata": {
    "collapsed": false,
    "deletable": true,
    "editable": true
   },
   "outputs": [],
   "source": [
    "%%time\n",
    "# check for class balance\n",
    "print('class balance Train set:', '\\n', df.label.value_counts())\n",
    "print('\\n','class balance Test set:', '\\n', df_test.label.value_counts())\n",
    "print('\\n','class balance Test RT set:', '\\n', test_RT.label.value_counts())\n",
    "print('\\n','class balance Test imdb set:', '\\n', test_imdb.label.value_counts())\n",
    "print('\\n','class balance Test polarity RT set:', '\\n', test_polarity_RT.label.value_counts())"
   ]
  },
  {
   "cell_type": "code",
   "execution_count": null,
   "metadata": {
    "collapsed": false,
    "deletable": true,
    "editable": true
   },
   "outputs": [],
   "source": [
    "%%time\n",
    "# imbalanced data\n",
    "#df_small = df.sample(500000, random_state=50)\n",
    "\n",
    "# balanced data\n",
    "#df_small = pd.concat([df[df.label == 1].sample(185410, random_state=42),  \n",
    "#                      df[df.label == 0].sample(185410, random_state=42)])\n",
    "\n",
    "df_small = df.sample(1343971, random_state=42)\n",
    "\n",
    "\n",
    "print('class balance:', '\\n', df_small.label.value_counts())"
   ]
  },
  {
   "cell_type": "code",
   "execution_count": null,
   "metadata": {
    "collapsed": false,
    "deletable": true,
    "editable": true
   },
   "outputs": [],
   "source": [
    "df_small.head()"
   ]
  },
  {
   "cell_type": "markdown",
   "metadata": {
    "deletable": true,
    "editable": true
   },
   "source": [
    "# Preprocessing"
   ]
  },
  {
   "cell_type": "code",
   "execution_count": null,
   "metadata": {
    "collapsed": false,
    "deletable": true,
    "editable": true
   },
   "outputs": [],
   "source": [
    "%%time\n",
    "def get_rate(s):\n",
    "    candidates = re.findall(r'(\\d{1,3}[\\\\|/]{1}\\d{1,2})', s)\n",
    "    rates = []\n",
    "    for c in candidates:\n",
    "        try:\n",
    "            rates.append(eval(c))\n",
    "        except SyntaxError:\n",
    "            pass\n",
    "        except ZeroDivisionError:\n",
    "            return 0\n",
    "    return np.median(rates)\n",
    "\n",
    "# regular expression to split review on sentences\n",
    "sentence_splitter = re.compile('(?<!\\w\\.\\w.)(?<![A-Z][a-z]\\.)(?<![A-Z]\\.)(?<=\\!|\\?|\\.)\\s')\n",
    "\n",
    "# lists of positive/negative smiles\n",
    "positive_smiles = set([\n",
    "\":‑)\",\":)\",\":-]\",\":]\",\":-3\",\":3\",\":->\",\":>\",\"8-)\",\"8)\",\":-}\",\":}\",\":o)\",\":c)\",\":^)\",\"=]\",\"=)\",\":‑D\",\":D\",\"8‑D\",\"8D\",\n",
    "\"x‑D\",\"xD\",\"X‑D\",\"XD\",\"=D\",\"=3\",\"B^D\",\":-))\",\";‑)\",\";)\",\"*-)\",\"*)\",\";‑]\",\";]\",\";^)\",\":‑,\",\";D\",\":‑P\",\":P\",\"X‑P\",\"XP\",\n",
    "\"x‑p\",\"xp\",\":‑p\",\":p\",\":‑Þ\",\":Þ\",\":‑þ\",\":þ\",\":‑b\",\":b\",\"d:\",\"=p\",\">:P\", \":'‑)\", \":')\",  \":-*\", \":*\", \":×\"\n",
    "])\n",
    "negative_smiles = set([\n",
    "\":‑(\",\":(\",\":‑c\",\":c\",\":‑<\",\":<\",\":‑[\",\":[\",\":-||\",\">:[\",\":{\",\":@\",\">:(\",\"D‑':\",\"D:<\",\"D:\",\"D8\",\"D;\",\"D=\",\"DX\",\":‑/\",\n",
    "\":/\",\":‑.\",'>:\\\\', \">:/\", \":\\\\\", \"=/\" ,\"=\\\\\", \":L\", \"=L\",\":S\",\":‑|\",\":|\",\"|‑O\",\"<:‑|\"\n",
    "])\n",
    "\n",
    "# pattern to catch SUCH WORDS and ignore SuCH :)\n",
    "uppercase_pattern = re.compile(r'(\\b[0-9]*[A-Z]+[0-9]*[A-Z]{1,}[0-9]*\\b)')\n",
    "\n",
    "# contrast conjugations\n",
    "contrast_conj = set([\n",
    "'alternatively','anyway','but','by contrast','differ from','elsewhere','even so','however','in contrast','in fact',\n",
    "'in other respects','in spite of','in that respect','instead','nevertheless','on the contrary','on the other hand',\n",
    "'rather','though','whereas','yet'])\n",
    "\n",
    "# to get review \"purity\" ~ same sentiment over review (~1) or not (~0)\n",
    "def purity(sentences):\n",
    "    polarities = np.array([TextBlob(x).sentiment.polarity for x in sentences])\n",
    "    return polarities.sum() / np.abs(polarities).sum()\n",
    "\n",
    "# feature engineering ^-^\n",
    "def get_custom_features(text):\n",
    "    # assume text = pd.Series with review text\n",
    "    print('extracting custom features...')\n",
    "    tdf = pd.DataFrame()\n",
    "    tdf['text'] = text \n",
    "    tdf['sentences'] = tdf.text.apply(lambda s: re.split(sentence_splitter, s)) # split to sentences \n",
    "    \n",
    "    # feature 4 - totally uppercase words (like HOLY JESUS!)\n",
    "    tdf['upper_word_cnt'] = tdf.text.apply(lambda s: len(re.findall(uppercase_pattern, s)))\n",
    "    \n",
    "    # try to extract rating :) like \"great film. 9/10\" will yield 0.9\n",
    "    tdf['rating'] = tdf['text'].apply(get_rate).fillna(-1) # feature 5 - rating (if found in review)\n",
    "\n",
    "    # try to extract smiles and count positive/negative smiles per review (features 6,7)\n",
    "    tdf['positive_smiles'] = tdf.text.apply(lambda s: len([x for x in s.split() if x in positive_smiles]))\n",
    "    tdf['negative_smiles'] = tdf.text.apply(lambda s: len([x for x in s.split() if x in negative_smiles]))\n",
    "    \n",
    "    # polarities (based on SentiWordNet word polarities)\n",
    "    tdf['polarity_1st_sent'] = tdf.sentences.apply(lambda s: TextBlob(s[0]).sentiment.polarity)\n",
    "    tdf['polarity_last_sent'] = tdf.sentences.apply(lambda s: TextBlob(s[-1]).sentiment.polarity)\n",
    "     \n",
    "    return csr_matrix(tdf[tdf.columns[2:]].values) # to get sparse format"
   ]
  },
  {
   "cell_type": "markdown",
   "metadata": {
    "deletable": true,
    "editable": true
   },
   "source": [
    "# model "
   ]
  },
  {
   "cell_type": "code",
   "execution_count": null,
   "metadata": {
    "collapsed": false,
    "deletable": true,
    "editable": true
   },
   "outputs": [],
   "source": [
    "# EXTRACTOR\n",
    "extraction_list = []\n",
    "\n",
    "# 1. custom features\n",
    "extraction_list.append(['custom_features', \n",
    "                             FunctionTransformer(func=get_custom_features,\n",
    "                                                 validate=False,\n",
    "                                                 accept_sparse=True\n",
    "                                                )\n",
    "                            ])\n",
    "# 2. simple bag-of-words (tf-idf)\n",
    "extraction_list.append(['tfidf', \n",
    "                             TfidfVectorizer(decode_error='ignore',\n",
    "                                             max_df=0.75, \n",
    "                                             min_df=3,\n",
    "                                             ngram_range=(1, 3), \n",
    "                                             max_features=35000, \n",
    "                                             stop_words=None\n",
    "                                            )\n",
    "                            ])\n",
    "\n",
    "extractor = FeatureUnion(extraction_list)\n",
    "\n",
    "\n",
    "# CLASSIFIER\n",
    "clf = LGBMClassifier(\n",
    "    colsample_bytree=0.7, \n",
    "    learning_rate=0.15, \n",
    "    max_depth=-1, \n",
    "    min_child_samples=15, \n",
    "    n_estimators=200, \n",
    "    num_leaves=127, \n",
    "    reg_lambda=1, \n",
    "    scale_pos_weight=1, \n",
    "    subsample_for_bin=5000\n",
    "    )\n",
    "\n",
    "# create pipeline, combining steps together                                                                                                                       \n",
    "\n",
    "model = Pipeline(\n",
    "    [\n",
    "        ('feature_extraction', extractor),\n",
    "        ('clf', clf)\n",
    "    ])"
   ]
  },
  {
   "cell_type": "markdown",
   "metadata": {
    "deletable": true,
    "editable": true
   },
   "source": [
    "# training model"
   ]
  },
  {
   "cell_type": "code",
   "execution_count": null,
   "metadata": {
    "collapsed": false,
    "deletable": true,
    "editable": true
   },
   "outputs": [],
   "source": [
    "%%time\n",
    "# train/test split\n",
    "X_train, X_test, y_train, y_test = train_test_split(\n",
    "                                                    df_small.text, \n",
    "                                                    df_small.label, \n",
    "                                                    test_size=0.1, \n",
    "                                                    random_state=42, \n",
    "                                                    stratify=df_small.label\n",
    "                                                   )\n",
    "\n",
    "\n",
    "\n",
    "# fit model\n",
    "model.fit(X_train, y_train)\n",
    "print('finally fitted :)')\n",
    "\n",
    "y_pred = model.predict(X_test)\n",
    "\n",
    "#check results on validation\n",
    "print('Accuracy on validation: {}'.format(accuracy_score(y_pred, y_test)))\n",
    "print(classification_report(y_test, y_pred))"
   ]
  },
  {
   "cell_type": "markdown",
   "metadata": {
    "deletable": true,
    "editable": true
   },
   "source": [
    "# testing model"
   ]
  },
  {
   "cell_type": "code",
   "execution_count": null,
   "metadata": {
    "collapsed": false,
    "deletable": true,
    "editable": true
   },
   "outputs": [],
   "source": [
    "%%time\n",
    "# test predict RT\n",
    "X, y = test_RT.text, test_RT.label\n",
    "y_pred_RT = model.predict(X)\n",
    "print(classification_report(y, y_pred_RT))\n",
    "print('accuracy: {}'.format(accuracy_score(y, y_pred_RT)))\n"
   ]
  },
  {
   "cell_type": "code",
   "execution_count": null,
   "metadata": {
    "collapsed": false,
    "deletable": true,
    "editable": true
   },
   "outputs": [],
   "source": [
    "%%time\n",
    "# test predict imdb\n",
    "X, y = test_imdb.text, test_imdb.label\n",
    "y_pred_imdb = model.predict(X)\n",
    "print(classification_report(y, y_pred_imdb ))\n",
    "print('accuracy: {}'.format(accuracy_score(y, y_pred_imdb)))"
   ]
  },
  {
   "cell_type": "code",
   "execution_count": null,
   "metadata": {
    "collapsed": false,
    "deletable": true,
    "editable": true
   },
   "outputs": [],
   "source": [
    "%%time\n",
    "# test predict polarity_RT\n",
    "X, y = test_polarity_RT.text, test_polarity_RT.label\n",
    "y_pred_pol = model.predict(X)\n",
    "print(classification_report(y, y_pred_pol))\n",
    "print('accuracy: {}'.format(accuracy_score(y, y_pred_pol)))"
   ]
  },
  {
   "cell_type": "code",
   "execution_count": null,
   "metadata": {
    "collapsed": false,
    "deletable": true,
    "editable": true
   },
   "outputs": [],
   "source": [
    "%%time\n",
    "#test predict\n",
    "X, y = df_test.text, df_test.label\n",
    "y_pred = model.predict(X)\n",
    "print(classification_report(y, y_pred)) # смотреть на значение f1-score в строке для класса 0\n",
    "print('accuracy: {}'.format(accuracy_score(y, y_pred)))"
   ]
  },
  {
   "cell_type": "code",
   "execution_count": null,
   "metadata": {
    "collapsed": true,
    "deletable": true,
    "editable": true
   },
   "outputs": [],
   "source": []
  }
 ],
 "metadata": {
  "kernelspec": {
   "display_name": "Python [default]",
   "language": "python",
   "name": "python3"
  },
  "language_info": {
   "codemirror_mode": {
    "name": "ipython",
    "version": 3
   },
   "file_extension": ".py",
   "mimetype": "text/x-python",
   "name": "python",
   "nbconvert_exporter": "python",
   "pygments_lexer": "ipython3",
   "version": "3.5.2"
  }
 },
 "nbformat": 4,
 "nbformat_minor": 2
}
